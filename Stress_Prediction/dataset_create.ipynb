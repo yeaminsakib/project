{
 "cells": [
  {
   "cell_type": "code",
   "execution_count": null,
   "metadata": {
    "vscode": {
     "languageId": "plaintext"
    }
   },
   "outputs": [],
   "source": [
    "import numpy as np\n",
    "import pandas as pd\n",
    "\n",
    "# Set a random seed for reproducibility\n",
    "np.random.seed(42)\n",
    "\n",
    "# Number of samples\n",
    "n_samples = 1025\n",
    "\n",
    "# Generate base variables\n",
    "self_reported_stress = np.random.randint(1, 11, n_samples)  # 1-10 scale\n",
    "daily_screen_time = np.random.randint(60, 600, n_samples)  # 60-600 mins\n",
    "self_reported_addiction = np.random.randint(1, 11, n_samples)  # 1-10 scale\n",
    "\n",
    "# Generate interrelated variables\n",
    "avg_sleep_hours = np.clip(8 - (self_reported_stress * 0.2) + np.random.normal(0, 0.5, n_samples), 4, 9)\n",
    "negative_impact_academics = np.clip((10 - avg_sleep_hours) * 0.5 + self_reported_stress * 0.3 + np.random.normal(0, 0.5, n_samples), 1, 10)\n",
    "anxiety_away_from_phone = np.clip(self_reported_addiction * 0.4 + daily_screen_time * 0.002 + np.random.normal(0, 0.5, n_samples), 1, 10)\n",
    "overall_stress_level = np.clip(self_reported_stress * 0.4 + negative_impact_academics * 0.3 + anxiety_away_from_phone * 0.3 + np.random.normal(0, 0.5, n_samples), 1, 10)\n",
    "\n",
    "night_usage_mins = np.clip(daily_screen_time * 0.2 + self_reported_addiction * 5 + np.random.normal(0, 10, n_samples), 0, 300)\n",
    "attempts_to_reduce_usage = np.clip((10 - self_reported_addiction) * 2 + np.random.normal(0, 2, n_samples), 0, 10)\n",
    "unlocks_per_day = np.clip(daily_screen_time * 0.1 + self_reported_addiction * 5 + np.random.normal(0, 5, n_samples), 20, 200)\n",
    "total_notifications = np.clip(daily_screen_time * 0.5 + self_reported_addiction * 10 + np.random.normal(0, 10, n_samples), 50, 500)\n",
    "\n",
    "# Generate target variables\n",
    "stress_level = np.clip(\n",
    "    self_reported_stress * 0.3 +\n",
    "    overall_stress_level * 0.3 +\n",
    "    negative_impact_academics * 0.2 +\n",
    "    (10 - avg_sleep_hours) * 0.1 +\n",
    "    anxiety_away_from_phone * 0.1 +\n",
    "    np.random.normal(0, 1, n_samples), 1, 10\n",
    ")\n",
    "\n",
    "addiction_level = np.clip(\n",
    "    self_reported_addiction * 0.4 +\n",
    "    daily_screen_time * 0.002 +\n",
    "    night_usage_mins * 0.002 +\n",
    "    unlocks_per_day * 0.001 +\n",
    "    total_notifications * 0.001 +\n",
    "    np.random.normal(0, 1, n_samples), 1, 10\n",
    ")\n",
    "\n",
    "# Create DataFrame\n",
    "data = {\n",
    "    'Self_Reported_Stress_Level': self_reported_stress,\n",
    "    'Overall_Stress_Level': overall_stress_level,\n",
    "    'Negative_Impact_On_Academics': negative_impact_academics,\n",
    "    'Avg_Sleep_Hours_Per_Night': avg_sleep_hours,\n",
    "    'Anxiety_Away_From_Phone': anxiety_away_from_phone,\n",
    "    'Daily_Screen_Time_Mins': daily_screen_time,\n",
    "    'Self_Reported_Addiction_Scale': self_reported_addiction,\n",
    "    'Night_Usage_Mins': night_usage_mins,\n",
    "    'Attempts_To_Reduce_Usage': attempts_to_reduce_usage,\n",
    "    'Unlocks_Per_Day': unlocks_per_day,\n",
    "    'Total_Notifications_Per_Day': total_notifications,\n",
    "    'Stress_Level': stress_level,\n",
    "    'Addiction_Level': addiction_level\n",
    "}\n",
    "\n",
    "df = pd.DataFrame(data)\n",
    "\n",
    "# Save to CSV\n",
    "df.to_csv('student_stress_addiction_intricate.csv', index=False)"
   ]
  }
 ],
 "metadata": {
  "language_info": {
   "name": "python"
  }
 },
 "nbformat": 4,
 "nbformat_minor": 2
}
